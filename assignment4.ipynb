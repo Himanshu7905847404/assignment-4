{
 "cells": [
  {
   "cell_type": "code",
   "execution_count": 3,
   "id": "689aac78-656a-49e4-8475-587d233ecfe6",
   "metadata": {},
   "outputs": [],
   "source": [
    " # Solution"
   ]
  },
  {
   "cell_type": "code",
   "execution_count": 5,
   "id": "4c8aa7b6-9aa1-4cd6-936e-a2587cb9e8ee",
   "metadata": {},
   "outputs": [
    {
     "name": "stdout",
     "output_type": "stream",
     "text": [
      "Name: Mountain Bike, Gears: 11 \n"
     ]
    }
   ],
   "source": [
    "# Q1.\n",
    "''' \n",
    "\n",
    "        A class is considered as a blueprint of objects. \n",
    "        We can think of the class as a sketch (prototype) of a house. \n",
    "        It contains all the details about the floors, doors, windows, etc. \n",
    "        Based on these descriptions we build the house.\n",
    "        House is the object.Since many houses can be made from the same description, \n",
    "        we can create many objects from a class.\n",
    "        \n",
    " Eg.\n",
    "     class Bike:\n",
    "         name = \"\"\n",
    "         gear = 0    \n",
    "    \n",
    "'''\n",
    "\n",
    "''' \n",
    "\n",
    "        An object is called an instance of a class.\n",
    "        For example, suppose Bike is a class then we can create objects like bike1, bike2, etc from the class.\n",
    "\n",
    "    Here's the syntax to create an object.\n",
    "\n",
    "    objectName = ClassName()\n",
    "    Let's see an example,\n",
    "\n",
    " #create class\n",
    "    class Bike:\n",
    "        name = \"\"\n",
    "        gear = 0\n",
    "\n",
    "    # create objects of class\n",
    "    bike1 = Bike() \n",
    "    \n",
    "'''\n",
    "# define a class\n",
    "class Bike:\n",
    "    name = \"\"\n",
    "    gear = 0\n",
    "\n",
    "# create object of class\n",
    "bike1 = Bike()\n",
    "\n",
    "# access attributes and assign new values\n",
    "bike1.gear = 11\n",
    "bike1.name = \"Mountain Bike\"\n",
    "\n",
    "print(f\"Name: {bike1.name}, Gears: {bike1.gear} \")\n",
    "\n",
    "\n"
   ]
  },
  {
   "cell_type": "code",
   "execution_count": 12,
   "id": "daf6237f-a4cf-414e-8ed4-c5abc6ab8398",
   "metadata": {},
   "outputs": [
    {
     "name": "stdout",
     "output_type": "stream",
     "text": [
      "The four pillars of OOPs are:\n",
      "\n",
      " \n",
      "          1-  Inheritance \n",
      "          2-  Polymorphism\n",
      "          3-  Encapsulation \n",
      "          4-  Abstraction\n",
      "      \n"
     ]
    }
   ],
   "source": [
    "# Q2.\n",
    "'''\n",
    "    the four pillars of OOPs are:\n",
    "            \n",
    "            1-  Inheritance \n",
    "            2-  Polymorphism\n",
    "            3-  Encapsulation \n",
    "            4-  Abstraction.\n",
    "'''\n",
    "print(\"The four pillars of OOPs are:\\n\")\n",
    "print(''' \n",
    "          1-  Inheritance \n",
    "          2-  Polymorphism\n",
    "          3-  Encapsulation \n",
    "          4-  Abstraction\n",
    "      ''')"
   ]
  },
  {
   "cell_type": "code",
   "execution_count": 13,
   "id": "b01db1ba-4043-4646-ac97-094f3143812e",
   "metadata": {},
   "outputs": [
    {
     "name": "stdout",
     "output_type": "stream",
     "text": [
      "John\n",
      "36\n"
     ]
    }
   ],
   "source": [
    "#Q3.\n",
    "''' \n",
    "    The __init__() function to assign values to object properties, \n",
    "    or other operations that are necessary to do when the object is being created:\n",
    "    eg.\n",
    "'''\n",
    "\n",
    "class Person:\n",
    "    def __init__(self, name, age):\n",
    "        self.name = name\n",
    "        self.age = age\n",
    "\n",
    "p1 = Person(\"John\", 36)\n",
    "\n",
    "print(p1.name)\n",
    "print(p1.age)"
   ]
  },
  {
   "cell_type": "code",
   "execution_count": 14,
   "id": "e5f0154f-4119-48bb-812f-a64bd8598ca3",
   "metadata": {},
   "outputs": [
    {
     "name": "stdout",
     "output_type": "stream",
     "text": [
      "\n",
      "        The self variable is used to represent the instance of the class which is often used in object-oriented programming. \n",
      "        It works as a reference to the object. \n",
      "        Python uses the self parameter to refer to instance attributes and methods of the class\n",
      "    \n"
     ]
    }
   ],
   "source": [
    "# Q4.\n",
    "'''\n",
    "    The self variable is used to represent the instance of the class which is often used in object-oriented programming. \n",
    "    It works as a reference to the object. \n",
    "    Python uses the self parameter to refer to instance attributes and methods of the class.\n",
    "'''\n",
    "print('''\n",
    "        The self variable is used to represent the instance of the class which is often used in object-oriented programming. \n",
    "        It works as a reference to the object. \n",
    "        Python uses the self parameter to refer to instance attributes and methods of the class\n",
    "    ''')"
   ]
  },
  {
   "cell_type": "code",
   "execution_count": 15,
   "id": "ba661f0a-f8e8-4a63-9e77-e3936da7584a",
   "metadata": {},
   "outputs": [
    {
     "name": "stdout",
     "output_type": "stream",
     "text": [
      "\n",
      "        what is Inheritance?\n",
      "        Inheritance is a mechanism in which one class acquires the property of another class. \n",
      "        For example, a child inherits the traits of his/her parents. \n",
      "        With inheritance, we can reuse the fields and methods of the existing class. \n",
      "        Hence, inheritance facilitates Reusability and is an important concept of OOPs.\n",
      "        \n"
     ]
    }
   ],
   "source": [
    "#Q5.\n",
    "print('''\n",
    "        what is Inheritance?\n",
    "        Inheritance is a mechanism in which one class acquires the property of another class. \n",
    "        For example, a child inherits the traits of his/her parents. \n",
    "        With inheritance, we can reuse the fields and methods of the existing class. \n",
    "        Hence, inheritance facilitates Reusability and is an important concept of OOPs.\n",
    "        TYPES Of Inheritance:\n",
    "        1- Single inheritance\n",
    "            In this inheritance, a derived class is created from a single base class.\n",
    "            example, Class A is the parent class and Class B is the child class \n",
    "            since Class B inherits the features and behavior of the parent class A.\n",
    "        \n",
    "        2- Multi-level inheritance\n",
    "            In this inheritance, a derived class is created from another derived class.\n",
    "\n",
    "            example, class c inherits the properties and behavior of class B and class B inherits the properties and behavior of class B. \n",
    "            So, here A is the parent class of B and class B is the parent class of C. \n",
    "            So, here class C implicitly inherits the properties and behavior of class A along with Class B \n",
    "            i.e there is a multilevel of inheritance.\n",
    "            \n",
    "        3- Multiple inheritance\n",
    "            In this inheritance, a derived class is created from more than one base class.\n",
    "            This inheritance is not supported by .NET Languages like C#, F#, etc., and Java Language.\n",
    "\n",
    "In the given example, class c inherits the properties and behavior of class B and class A at the same level. So, here A and Class B both are the parent classes for Class C.\n",
    "        ''')\n"
   ]
  },
  {
   "cell_type": "code",
   "execution_count": null,
   "id": "250ae36c-9dc7-4589-b70e-9d4823e2d7a0",
   "metadata": {},
   "outputs": [],
   "source": []
  }
 ],
 "metadata": {
  "kernelspec": {
   "display_name": "Python 3 (ipykernel)",
   "language": "python",
   "name": "python3"
  },
  "language_info": {
   "codemirror_mode": {
    "name": "ipython",
    "version": 3
   },
   "file_extension": ".py",
   "mimetype": "text/x-python",
   "name": "python",
   "nbconvert_exporter": "python",
   "pygments_lexer": "ipython3",
   "version": "3.10.8"
  }
 },
 "nbformat": 4,
 "nbformat_minor": 5
}
